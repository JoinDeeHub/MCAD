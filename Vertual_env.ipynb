{
 "cells": [
  {
   "cell_type": "markdown",
   "id": "f491009a",
   "metadata": {},
   "source": [
    "# To activate Vertual Envi"
   ]
  },
  {
   "cell_type": "markdown",
   "id": "3bc13064",
   "metadata": {},
   "source": [
    ">> conda create --name MCAD"
   ]
  },
  {
   "cell_type": "markdown",
   "id": "b6b63b46",
   "metadata": {},
   "source": [
    ">> conda activate MCAD"
   ]
  },
  {
   "cell_type": "markdown",
   "id": "d3ed9cfd",
   "metadata": {},
   "source": [
    ">> conda activate AI"
   ]
  },
  {
   "cell_type": "markdown",
   "id": "b0c767c7",
   "metadata": {},
   "source": [
    "✅ Step 1: Add conda to your PATH\n",
    "Assuming you installed it to:\n",
    "\n",
    "bash\n",
    "Copy\n",
    "Edit\n",
    "/media/deehub/6355e288-ba65-4826-82a0-cfdd4313de42/miniconda3\n",
    "Run this:\n",
    "\n",
    "bash\n",
    "Copy\n",
    "Edit\n",
    "export PATH=\"/media/deehub/6355e288-ba65-4826-82a0-cfdd4313de42/miniconda3/bin:$PATH\"\n",
    "Now test it:\n",
    "\n",
    "bash\n",
    "Copy\n",
    "Edit\n",
    "conda --version\n",
    "You should see something like:\n",
    "\n",
    "nginx\n",
    "Copy\n",
    "Edit\n",
    "conda 24.x.x\n",
    "✅ Step 2: Initialize conda shell hooks\n",
    "Run:\n",
    "\n",
    "bash\n",
    "Copy\n",
    "Edit\n",
    "conda init\n",
    "This modifies your shell config (e.g., .bashrc, .zshrc) so conda activate works properly.\n",
    "\n",
    "Then restart your terminal or run:\n",
    "\n",
    "bash\n",
    "Copy\n",
    "Edit\n",
    "source ~/.bashrc\n",
    "✅ Step 3: Activate a conda environment\n",
    "To activate the base environment:\n",
    "\n",
    "bash\n",
    "Copy\n",
    "Edit\n",
    "conda activate\n",
    "Or activate a specific env:\n",
    "\n",
    "bash\n",
    "Copy\n",
    "Edit\n",
    "conda activate myenv"
   ]
  },
  {
   "cell_type": "markdown",
   "id": "11cdae75",
   "metadata": {},
   "source": []
  },
  {
   "cell_type": "code",
   "execution_count": null,
   "id": "878ae88b",
   "metadata": {
    "vscode": {
     "languageId": "plaintext"
    }
   },
   "outputs": [],
   "source": [
    "conda info --envs\n",
    "\n",
    "# conda environments:\n",
    "#\n",
    "                       /home/deehub/JoinDeeHub/.conda\n",
    "base                   /home/deehub/anaconda3\n",
    "AI                   * /home/deehub/anaconda3/envs/AI\n",
    "RestyleAI              /home/deehub/anaconda3/envs/ReStyleAI\n"
   ]
  },
  {
   "cell_type": "markdown",
   "id": "785945d9",
   "metadata": {},
   "source": [
    "To test that Docker is working correctly after starting it (sudo systemctl start docker), follow these steps:\n",
    "\n",
    "✅ Step-by-Step: Verify Docker Functionality\n",
    "🔹 1. Check Docker Status\n",
    "bash\n",
    "CopyEdit\n",
    "sudo systemctl status docker\n",
    "\n",
    "✅ You should see: Active: active (running)\n",
    "\n",
    "🔹 2. Verify Docker Version\n",
    "bash\n",
    "CopyEdit\n",
    "docker --version\n",
    "\n",
    "✅ Should print something like:\n",
    " Docker version 24.0.x, build abcdefg\n",
    "\n",
    "🔹 3. Run a Test Container\n",
    "This is the most reliable test:\n",
    "bash\n",
    "CopyEdit\n",
    "docker run hello-world\n",
    "\n",
    "✅ Expected output:\n",
    "Hello from Docker!\n",
    " This message shows that your installation appears to be working correctly.\n",
    "If this fails, the error message will help debug (e.g. permission denied, daemon not running, etc.)\n",
    "\n",
    "🔹 4. Check Running Containers\n",
    "bash\n",
    "CopyEdit\n",
    "docker ps -a\n",
    "\n",
    "✅ Should show the hello-world container in Exited state.\n",
    "\n",
    "🔹 5. (Optional) Run an Interactive Container\n",
    "bash\n",
    "CopyEdit\n",
    "docker run -it ubuntu bash\n",
    "\n",
    "✅ Should drop you into a bash shell inside an Ubuntu container.\n",
    "Exit using:\n",
    "bash\n",
    "CopyEdit\n",
    "exit\n",
    "\n",
    "\n",
    "🔹 6. Check Docker Group Permissions (Optional)\n",
    "To run Docker without sudo, add yourself to the docker group:\n",
    "bash\n",
    "CopyEdit\n",
    "sudo usermod -aG docker $USER\n",
    "newgrp docker\n",
    "\n",
    "Then try:\n",
    "bash\n",
    "CopyEdit\n",
    "docker run hello-world\n",
    "\n"
   ]
  },
  {
   "cell_type": "markdown",
   "id": "ab968164",
   "metadata": {},
   "source": []
  }
 ],
 "metadata": {
  "language_info": {
   "name": "python"
  }
 },
 "nbformat": 4,
 "nbformat_minor": 5
}
