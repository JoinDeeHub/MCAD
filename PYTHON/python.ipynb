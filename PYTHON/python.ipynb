{
 "cells": [
  {
   "cell_type": "markdown",
   "id": "0d91053c",
   "metadata": {},
   "source": [
    "# Practice"
   ]
  },
  {
   "cell_type": "code",
   "execution_count": null,
   "id": "bd15552d",
   "metadata": {},
   "outputs": [
    {
     "name": "stdout",
     "output_type": "stream",
     "text": [
      "Name 'deehub' added successfully.\n",
      "Name 'deena' added successfully.\n",
      "Name 'pinky' added successfully.\n",
      "Name 'paaru' added successfully.\n",
      "Name already exists, please enter a different name.\n",
      "\n",
      "Final list of names:\n",
      "- deehub\n",
      "- deena\n",
      "- pinky\n",
      "- paaru\n"
     ]
    }
   ],
   "source": [
    "# for loop\n",
    "\n",
    "user = []\n",
    "\n",
    "for i in range(5):\n",
    "    name = input(\"Enter a name: \")\n",
    "    if name not in user:\n",
    "        user.append(name)\n",
    "        print(f\"Name '{name}' added successfully.\")\n",
    "    else:\n",
    "        print(\"Name already exists, please enter a different name.\")\n",
    "# Print final list of unique names\n",
    "print(\"\\nFinal list of names:\")\n",
    "for n in user:\n",
    "    print(\"~\", n)\n"
   ]
  },
  {
   "cell_type": "markdown",
   "id": "f6eeb9b2",
   "metadata": {},
   "source": [
    "## For Loop Problems (15 Examples)"
   ]
  },
  {
   "cell_type": "code",
   "execution_count": 1,
   "id": "3835a192",
   "metadata": {},
   "outputs": [
    {
     "name": "stdout",
     "output_type": "stream",
     "text": [
      "1\n",
      "2\n",
      "3\n",
      "4\n",
      "5\n",
      "6\n",
      "7\n",
      "8\n",
      "9\n",
      "10\n"
     ]
    }
   ],
   "source": [
    "# Print numbers 1 to 10:\n",
    "\n",
    "for num in range(1, 11):\n",
    "    print(num)\n"
   ]
  },
  {
   "cell_type": "code",
   "execution_count": 2,
   "id": "23190804",
   "metadata": {},
   "outputs": [
    {
     "name": "stdout",
     "output_type": "stream",
     "text": [
      "15\n"
     ]
    }
   ],
   "source": [
    "# Sum of list elements:\n",
    "\n",
    "\n",
    "numbers = [1, 2, 3, 4, 5]\n",
    "total = 0\n",
    "for num in numbers:\n",
    "    total += num\n",
    "print(total)  # Output: 15\n"
   ]
  },
  {
   "cell_type": "code",
   "execution_count": 3,
   "id": "982b4354",
   "metadata": {},
   "outputs": [
    {
     "name": "stdout",
     "output_type": "stream",
     "text": [
      "P\n",
      "y\n",
      "t\n",
      "h\n",
      "o\n",
      "n\n"
     ]
    }
   ],
   "source": [
    "#Print characters of a string:\n",
    "\n",
    "word = \"Python\"\n",
    "for char in word:\n",
    "    print(char)\n"
   ]
  },
  {
   "cell_type": "code",
   "execution_count": 4,
   "id": "9f35395b",
   "metadata": {},
   "outputs": [
    {
     "name": "stdout",
     "output_type": "stream",
     "text": [
      "[1, 4, 9, 16, 25]\n"
     ]
    }
   ],
   "source": [
    "# List of squares:\n",
    "\n",
    "squares = []\n",
    "for i in range(1, 6):\n",
    "    squares.append(i ** 2)\n",
    "print(squares)  # Output: [1, 4, 9, 16, 25]\n"
   ]
  },
  {
   "cell_type": "code",
   "execution_count": 5,
   "id": "7606efae",
   "metadata": {},
   "outputs": [
    {
     "name": "stdout",
     "output_type": "stream",
     "text": [
      "[2, 4, 6, 8]\n"
     ]
    }
   ],
   "source": [
    "# Filter even numbers:\n",
    "\n",
    "numbers = [1, 2, 3, 4, 5, 6, 7, 8]\n",
    "evens = []\n",
    "for num in numbers:\n",
    "    if num % 2 == 0:\n",
    "        evens.append(num)\n",
    "print(evens)  # Output: [2, 4, 6, 8]\n"
   ]
  },
  {
   "cell_type": "code",
   "execution_count": 6,
   "id": "0b371f3e",
   "metadata": {},
   "outputs": [
    {
     "name": "stdout",
     "output_type": "stream",
     "text": [
      "3\n"
     ]
    }
   ],
   "source": [
    "# Count vowels in a string:\n",
    "\n",
    "text = \"Hello World\"\n",
    "vowels = \"aeiouAEIOU\"\n",
    "count = 0\n",
    "for char in text:\n",
    "    if char in vowels:\n",
    "        count += 1\n",
    "print(count)  # Output: 3\n"
   ]
  },
  {
   "cell_type": "code",
   "execution_count": 7,
   "id": "9d4c859e",
   "metadata": {},
   "outputs": [
    {
     "name": "stdout",
     "output_type": "stream",
     "text": [
      "5 x 1 = 5\n",
      "5 x 2 = 10\n",
      "5 x 3 = 15\n",
      "5 x 4 = 20\n",
      "5 x 5 = 25\n",
      "5 x 6 = 30\n",
      "5 x 7 = 35\n",
      "5 x 8 = 40\n",
      "5 x 9 = 45\n",
      "5 x 10 = 50\n"
     ]
    }
   ],
   "source": [
    "# Multiplication table:\n",
    "\n",
    "n = 5\n",
    "for i in range(1, 11):\n",
    "    print(f\"{n} x {i} = {n*i}\")\n"
   ]
  },
  {
   "cell_type": "code",
   "execution_count": 8,
   "id": "29aa177b",
   "metadata": {},
   "outputs": [
    {
     "name": "stdout",
     "output_type": "stream",
     "text": [
      "[40, 30, 20, 10]\n"
     ]
    }
   ],
   "source": [
    "# Reverse a list:\n",
    "\n",
    "original = [10, 20, 30, 40]\n",
    "reversed_list = []\n",
    "for i in range(len(original)-1, -1, -1):\n",
    "    reversed_list.append(original[i])\n",
    "print(reversed_list)  # Output: [40, 30, 20, 10]\n"
   ]
  },
  {
   "cell_type": "code",
   "execution_count": 9,
   "id": "23901ec1",
   "metadata": {},
   "outputs": [
    {
     "name": "stdout",
     "output_type": "stream",
     "text": [
      "120\n"
     ]
    }
   ],
   "source": [
    "# Factorial calculation:\n",
    "\n",
    "n = 5\n",
    "factorial = 1\n",
    "for i in range(1, n+1):\n",
    "    factorial *= i\n",
    "print(factorial)  # Output: 120\n"
   ]
  },
  {
   "cell_type": "code",
   "execution_count": 10,
   "id": "0e48a28e",
   "metadata": {},
   "outputs": [
    {
     "name": "stdout",
     "output_type": "stream",
     "text": [
      "*\n",
      "**\n",
      "***\n",
      "****\n",
      "*****\n"
     ]
    }
   ],
   "source": [
    "# Nested loop pattern:\n",
    "\n",
    "\n",
    "for i in range(5):\n",
    "    for j in range(i+1):\n",
    "        print(\"*\", end=\"\")\n",
    "    print()\n",
    "# Output:\n",
    "# *\n",
    "# **\n",
    "# ***\n",
    "# ****\n",
    "# *****\n"
   ]
  },
  {
   "cell_type": "code",
   "execution_count": 11,
   "id": "555aa910",
   "metadata": {},
   "outputs": [
    {
     "name": "stdout",
     "output_type": "stream",
     "text": [
      "[2, 3, 5, 7]\n"
     ]
    }
   ],
   "source": [
    "# Remove duplicates:\n",
    "\n",
    "\n",
    "numbers = [2, 3, 2, 5, 3, 7]\n",
    "unique = []\n",
    "for num in numbers:\n",
    "    if num not in unique:\n",
    "        unique.append(num)\n",
    "print(unique)  # Output: [2, 3, 5, 7]\n"
   ]
  },
  {
   "cell_type": "code",
   "execution_count": 12,
   "id": "f578cb76",
   "metadata": {},
   "outputs": [
    {
     "name": "stdout",
     "output_type": "stream",
     "text": [
      "9\n"
     ]
    }
   ],
   "source": [
    "# Find maximum in list:\n",
    "\n",
    "\n",
    "numbers = [4, 2, 9, 5, 1]\n",
    "max_val = numbers[0]\n",
    "for num in numbers[1:]:\n",
    "    if num > max_val:\n",
    "        max_val = num\n",
    "print(max_val)  # Output: 9\n"
   ]
  },
  {
   "cell_type": "code",
   "execution_count": 13,
   "id": "939439a3",
   "metadata": {},
   "outputs": [
    {
     "name": "stdout",
     "output_type": "stream",
     "text": [
      "apple: 5 characters\n",
      "banana: 6 characters\n",
      "cherry: 6 characters\n"
     ]
    }
   ],
   "source": [
    "# Word lengths:\n",
    "\n",
    "\n",
    "words = [\"apple\", \"banana\", \"cherry\"]\n",
    "for word in words:\n",
    "    print(f\"{word}: {len(word)} characters\")\n"
   ]
  },
  {
   "cell_type": "code",
   "execution_count": 14,
   "id": "4c052c6c",
   "metadata": {},
   "outputs": [
    {
     "name": "stdout",
     "output_type": "stream",
     "text": [
      "True\n"
     ]
    }
   ],
   "source": [
    "# Prime number check:\n",
    "\n",
    "\n",
    "num = 17\n",
    "is_prime = True\n",
    "for i in range(2, int(num**0.5)+1):\n",
    "    if num % i == 0:\n",
    "        is_prime = False\n",
    "        break\n",
    "print(is_prime)  # Output: True\n"
   ]
  },
  {
   "cell_type": "code",
   "execution_count": 15,
   "id": "6bf8d807",
   "metadata": {},
   "outputs": [
    {
     "name": "stdout",
     "output_type": "stream",
     "text": [
      "[1, 2, 3, 4, 5, 6]\n"
     ]
    }
   ],
   "source": [
    "# Flatten 2D list:\n",
    "\n",
    "\n",
    "matrix = [[1, 2], [3, 4], [5, 6]]\n",
    "flat = []\n",
    "for row in matrix:\n",
    "    for num in row:\n",
    "        flat.append(num)\n",
    "print(flat)  # Output: [1, 2, 3, 4, 5, 6]\n"
   ]
  },
  {
   "cell_type": "markdown",
   "id": "a57a0d73",
   "metadata": {},
   "source": [
    "## While Loop Problems (15 Examples)\n"
   ]
  },
  {
   "cell_type": "code",
   "execution_count": 16,
   "id": "541f8c60",
   "metadata": {},
   "outputs": [
    {
     "name": "stdout",
     "output_type": "stream",
     "text": [
      "10\n",
      "9\n",
      "8\n",
      "7\n",
      "6\n",
      "5\n",
      "4\n",
      "3\n",
      "2\n",
      "1\n",
      "Blast off!\n"
     ]
    }
   ],
   "source": [
    "# Countdown from 10:\n",
    "\n",
    "\n",
    "count = 10\n",
    "while count > 0:\n",
    "    print(count)\n",
    "    count -= 1\n",
    "print(\"Blast off!\")\n"
   ]
  },
  {
   "cell_type": "code",
   "execution_count": 17,
   "id": "a8988a04",
   "metadata": {},
   "outputs": [
    {
     "name": "stdout",
     "output_type": "stream",
     "text": [
      "Sum: 6\n"
     ]
    }
   ],
   "source": [
    "# Sum until negative input:\n",
    "\n",
    "total = 0\n",
    "while True:\n",
    "    num = int(input(\"Enter number (negative to stop): \"))\n",
    "    if num < 0:\n",
    "        break\n",
    "    total += num\n",
    "print(\"Sum:\", total)\n"
   ]
  },
  {
   "cell_type": "code",
   "execution_count": 18,
   "id": "e816bc31",
   "metadata": {},
   "outputs": [
    {
     "name": "stdout",
     "output_type": "stream",
     "text": [
      "Access granted!\n"
     ]
    }
   ],
   "source": [
    "# Password validation:\n",
    "\n",
    "password = \"\"\n",
    "while password != \"secret123\":\n",
    "    password = input(\"Enter password: \")\n",
    "print(\"Access granted!\")\n"
   ]
  },
  {
   "cell_type": "code",
   "execution_count": 19,
   "id": "0b3aae0a",
   "metadata": {},
   "outputs": [
    {
     "name": "stdout",
     "output_type": "stream",
     "text": [
      "0 1 1 2 3 5 8 13 21 34 "
     ]
    }
   ],
   "source": [
    "# Fibonacci sequence:\n",
    "\n",
    "\n",
    "a, b = 0, 1\n",
    "count = 0\n",
    "while count < 10:\n",
    "    print(a, end=\" \")\n",
    "    a, b = b, a+b\n",
    "    count += 1\n",
    "# Output: 0 1 1 2 3 5 8 13 21 34\n"
   ]
  },
  {
   "cell_type": "code",
   "execution_count": null,
   "id": "2c997e4d",
   "metadata": {},
   "outputs": [
    {
     "name": "stdout",
     "output_type": "stream",
     "text": [
      "Please enter a valid integer.\n",
      "Too low!\n",
      "Too high!\n",
      "Too high!\n",
      "Please enter a valid integer.\n",
      "Please enter a valid integer.\n",
      "Please enter a valid integer.\n",
      "Please enter a valid integer.\n",
      "Please enter a valid integer.\n",
      "Please enter a valid integer.\n",
      "Please enter a valid integer.\n",
      "Too low!\n"
     ]
    }
   ],
   "source": [
    "# Number guessing game:\n",
    "\n",
    "\n",
    "import random\n",
    "target = random.randint(1, 100)\n",
    "guess = None\n",
    "while guess != target:\n",
    "    guess = int(input(\"Guess (1-100): \"))\n",
    "    if guess < target:\n",
    "        print(\"Too low!\")\n",
    "    elif guess > target:\n",
    "        print(\"Too high!\")\n",
    "print(\"Correct!\")\n"
   ]
  },
  {
   "cell_type": "code",
   "execution_count": 1,
   "id": "38b04958",
   "metadata": {},
   "outputs": [
    {
     "name": "stdout",
     "output_type": "stream",
     "text": [
      "1\n",
      "2\n",
      "4\n",
      "8\n",
      "16\n",
      "32\n",
      "64\n",
      "128\n",
      "256\n",
      "512\n"
     ]
    }
   ],
   "source": [
    "# Exponential growth:\n",
    "\n",
    "\n",
    "value = 1\n",
    "while value < 1000:\n",
    "    print(value)\n",
    "    value *= 2\n",
    "# Output: 1, 2, 4, 8, 16, 32, 64, 128, 256, 512\n"
   ]
  },
  {
   "cell_type": "code",
   "execution_count": 2,
   "id": "36cbe343",
   "metadata": {},
   "outputs": [
    {
     "name": "stdout",
     "output_type": "stream",
     "text": [
      "[10, 30, 40]\n"
     ]
    }
   ],
   "source": [
    "# Remove all occurrences:\n",
    "\n",
    "\n",
    "numbers = [10, 20, 30, 20, 40, 20]\n",
    "while 20 in numbers:\n",
    "    numbers.remove(20)\n",
    "print(numbers)  # Output: [10, 30, 40]\n"
   ]
  },
  {
   "cell_type": "code",
   "execution_count": 3,
   "id": "aabda8c5",
   "metadata": {},
   "outputs": [
    {
     "name": "stdout",
     "output_type": "stream",
     "text": [
      "27 → 82 → 41 → 124 → 62 → 31 → 94 → 47 → 142 → 71 → 214 → 107 → 322 → 161 → 484 → 242 → 121 → 364 → 182 → 91 → 274 → 137 → 412 → 206 → 103 → 310 → 155 → 466 → 233 → 700 → 350 → 175 → 526 → 263 → 790 → 395 → 1186 → 593 → 1780 → 890 → 445 → 1336 → 668 → 334 → 167 → 502 → 251 → 754 → 377 → 1132 → 566 → 283 → 850 → 425 → 1276 → 638 → 319 → 958 → 479 → 1438 → 719 → 2158 → 1079 → 3238 → 1619 → 4858 → 2429 → 7288 → 3644 → 1822 → 911 → 2734 → 1367 → 4102 → 2051 → 6154 → 3077 → 9232 → 4616 → 2308 → 1154 → 577 → 1732 → 866 → 433 → 1300 → 650 → 325 → 976 → 488 → 244 → 122 → 61 → 184 → 92 → 46 → 23 → 70 → 35 → 106 → 53 → 160 → 80 → 40 → 20 → 10 → 5 → 16 → 8 → 4 → 2 → 1\n"
     ]
    }
   ],
   "source": [
    "# Collatz sequence:\n",
    "\n",
    "\n",
    "n = 27\n",
    "while n != 1:\n",
    "    print(int(n), end=\" → \")\n",
    "    n = n/2 if n % 2 == 0 else 3*n + 1\n",
    "print(1)\n"
   ]
  },
  {
   "cell_type": "code",
   "execution_count": 4,
   "id": "d7816f83",
   "metadata": {},
   "outputs": [
    {
     "name": "stdout",
     "output_type": "stream",
     "text": [
      "15\n"
     ]
    }
   ],
   "source": [
    "# Digit sum:\n",
    "\n",
    "\n",
    "num = 54321\n",
    "total = 0\n",
    "while num > 0:\n",
    "    total += num % 10\n",
    "    num //= 10\n",
    "print(total)  # Output: 15 (5+4+3+2+1)\n"
   ]
  },
  {
   "cell_type": "code",
   "execution_count": 5,
   "id": "79cf0b53",
   "metadata": {},
   "outputs": [
    {
     "name": "stdout",
     "output_type": "stream",
     "text": [
      "10010\n"
     ]
    }
   ],
   "source": [
    "# Decimal to binary:\n",
    "\n",
    "\n",
    "decimal = 18\n",
    "binary = \"\"\n",
    "while decimal > 0:\n",
    "    binary = str(decimal % 2) + binary\n",
    "    decimal //= 2\n",
    "print(binary or \"0\")  # Output: 10010\n"
   ]
  },
  {
   "cell_type": "code",
   "execution_count": 6,
   "id": "8e18bb7e",
   "metadata": {},
   "outputs": [
    {
     "name": "stdout",
     "output_type": "stream",
     "text": [
      "Invalid input!\n",
      "Age: 31\n"
     ]
    }
   ],
   "source": [
    "# Retry on invalid input:\n",
    "\n",
    "\n",
    "while True:\n",
    "    age = input(\"Enter age: \")\n",
    "    if age.isdigit() and 0 < int(age) < 120:\n",
    "        break\n",
    "    print(\"Invalid input!\")\n",
    "print(f\"Age: {age}\")\n"
   ]
  },
  {
   "cell_type": "code",
   "execution_count": 7,
   "id": "c8f6d6e9",
   "metadata": {},
   "outputs": [
    {
     "name": "stdout",
     "output_type": "stream",
     "text": [
      "6\n"
     ]
    }
   ],
   "source": [
    "# Count digits in number:\n",
    "\n",
    "\n",
    "num = 123456\n",
    "count = 0\n",
    "while num != 0:\n",
    "    count += 1\n",
    "    num //= 10\n",
    "print(count)  # Output: 6\n"
   ]
  },
  {
   "cell_type": "code",
   "execution_count": 8,
   "id": "5f98c24c",
   "metadata": {},
   "outputs": [
    {
     "name": "stdout",
     "output_type": "stream",
     "text": [
      "Processing 0\n",
      "Processing 1\n",
      "Processing 2\n",
      "Processing 3\n",
      "Processing 4\n",
      "Processing 5\n",
      "Exit condition met\n"
     ]
    }
   ],
   "source": [
    "# Infinite loop with exit condition:\n",
    "\n",
    "counter = 0\n",
    "while True:\n",
    "    print(f\"Processing {counter}\")\n",
    "    counter += 1\n",
    "    if counter > 5:\n",
    "        print(\"Exit condition met\")\n",
    "        break\n"
   ]
  },
  {
   "cell_type": "code",
   "execution_count": 9,
   "id": "c65aeaef",
   "metadata": {},
   "outputs": [
    {
     "name": "stdout",
     "output_type": "stream",
     "text": [
      "Reached $2104.85 in 11 years\n"
     ]
    }
   ],
   "source": [
    "# Compound interest simulation:\n",
    "\n",
    "\n",
    "balance = 1000\n",
    "target = 2000\n",
    "years = 0\n",
    "while balance < target:\n",
    "    years += 1\n",
    "    balance *= 1.07  # 7% interest\n",
    "print(f\"Reached ${balance:.2f} in {years} years\")\n"
   ]
  },
  {
   "cell_type": "code",
   "execution_count": 10,
   "id": "c2c3ba09",
   "metadata": {},
   "outputs": [
    {
     "name": "stdout",
     "output_type": "stream",
     "text": [
      "Processing task1\n",
      "Processing task2\n",
      "Processing task3\n",
      "All tasks completed\n"
     ]
    }
   ],
   "source": [
    "# Queue processing:\n",
    "\n",
    "\n",
    "tasks = [\"task1\", \"task2\", \"task3\"]\n",
    "while tasks:\n",
    "    current_task = tasks.pop(0)\n",
    "    print(f\"Processing {current_task}\")\n",
    "print(\"All tasks completed\")\n"
   ]
  },
  {
   "cell_type": "markdown",
   "id": "0875d2e9",
   "metadata": {},
   "source": [
    "Key Concepts Covered:\n",
    "Loop Type\tApplications\n",
    "For Loops\tFixed iterations, sequence traversal, filtering, transformations\n",
    "While Loops\tUnknown iterations, input validation, game loops, complex conditions"
   ]
  }
 ],
 "metadata": {
  "kernelspec": {
   "display_name": "MCAD",
   "language": "python",
   "name": "python3"
  },
  "language_info": {
   "codemirror_mode": {
    "name": "ipython",
    "version": 3
   },
   "file_extension": ".py",
   "mimetype": "text/x-python",
   "name": "python",
   "nbconvert_exporter": "python",
   "pygments_lexer": "ipython3",
   "version": "3.12.3"
  }
 },
 "nbformat": 4,
 "nbformat_minor": 5
}
