{
  "nbformat": 4,
  "nbformat_minor": 0,
  "metadata": {
    "colab": {
      "provenance": []
    },
    "kernelspec": {
      "name": "python3",
      "display_name": "Python 3"
    },
    "language_info": {
      "name": "python"
    }
  },
  "cells": [
    {
      "cell_type": "markdown",
      "source": [
        "Today's Agenda\n",
        "---------------------\n",
        "<pre>\n",
        "Loops\n",
        "Python Data Structures\n",
        "\tList\n",
        "\tSet\n",
        "\tArrays\n",
        "\tDictionary (Extended)\n",
        "OOP\n",
        "\tClasses ,Objects  & Functions"
      ],
      "metadata": {
        "id": "79DlnGlzeaKe"
      }
    },
    {
      "cell_type": "code",
      "source": [],
      "metadata": {
        "id": "aNpEl3nOebIQ"
      },
      "execution_count": null,
      "outputs": []
    },
    {
      "cell_type": "markdown",
      "source": [
        "# Loops\n",
        "---\n",
        "<pre>\n",
        "Any task that is repetitive in Nature or repeats itself requires us to use Loop in Python Programming.\n",
        "\n",
        "      eg.\n",
        "        1. Repeated userid and password (in case of wrong credentials)\n",
        "        2. Repeat All Button in music Players.\n",
        "\n"
      ],
      "metadata": {
        "id": "o4qx-t9cerDC"
      }
    },
    {
      "cell_type": "code",
      "source": [
        "# quick question\n",
        "\n",
        "# we use loops when a task is ______ in nature.\n",
        "# answer: repetitive"
      ],
      "metadata": {
        "id": "OdYXUNaYfLC4"
      },
      "execution_count": null,
      "outputs": []
    },
    {
      "cell_type": "markdown",
      "source": [
        "# Python Provides 2 Types of Loops\n",
        "\n",
        "1. While\n",
        "\n",
        "2. For"
      ],
      "metadata": {
        "id": "8J7ejFOzfXej"
      }
    },
    {
      "cell_type": "code",
      "source": [
        "# eg.\n",
        "\n",
        "\n",
        "meter = 2\n",
        "\n",
        "while  meter <= 10 :\n",
        "\n",
        "  print (   meter )\n",
        "\n",
        "  meter =  meter + 2\n",
        "\n",
        "\n"
      ],
      "metadata": {
        "colab": {
          "base_uri": "https://localhost:8080/"
        },
        "id": "GxBrwEeWfVJW",
        "outputId": "86567453-fc0b-48d3-94b2-abedbfde3759"
      },
      "execution_count": null,
      "outputs": [
        {
          "output_type": "stream",
          "name": "stdout",
          "text": [
            "2\n",
            "4\n",
            "6\n",
            "8\n",
            "10\n"
          ]
        }
      ]
    },
    {
      "cell_type": "code",
      "source": [],
      "metadata": {
        "id": "nSG5QyAhgqjV"
      },
      "execution_count": null,
      "outputs": []
    },
    {
      "cell_type": "markdown",
      "source": [
        "# for loop\n",
        "----"
      ],
      "metadata": {
        "id": "chkTtGCRhL--"
      }
    },
    {
      "cell_type": "code",
      "source": [
        "# say for eg. you have some set of elements eg. grocery list. you want to acces\n",
        "# each element in 1 by 1 order\n",
        "\n",
        "# in this case use for loop"
      ],
      "metadata": {
        "id": "rWLU9QYBhM-9"
      },
      "execution_count": null,
      "outputs": []
    },
    {
      "cell_type": "code",
      "source": [
        "\n",
        "\n",
        "for item in 'milk','rusk','bread','butter','mint':\n",
        "\n",
        "  print( item )\n"
      ],
      "metadata": {
        "colab": {
          "base_uri": "https://localhost:8080/"
        },
        "id": "YcZOvS3ehSMG",
        "outputId": "3c5121d7-aba6-4501-c970-1278a2309794"
      },
      "execution_count": null,
      "outputs": [
        {
          "output_type": "stream",
          "name": "stdout",
          "text": [
            "milk\n",
            "rusk\n",
            "bread\n",
            "butter\n",
            "mint\n"
          ]
        }
      ]
    },
    {
      "cell_type": "code",
      "source": [],
      "metadata": {
        "id": "w3W3lnIOhXWG"
      },
      "execution_count": null,
      "outputs": []
    },
    {
      "cell_type": "markdown",
      "source": [
        "# Suggestion\n",
        "# Solving atleast 15 Questions on For and While (each) total of 30 to develop flexibility"
      ],
      "metadata": {
        "id": "wZJczyc7jceR"
      }
    },
    {
      "cell_type": "code",
      "source": [],
      "metadata": {
        "id": "ueCXOpK2jhqo"
      },
      "execution_count": null,
      "outputs": []
    },
    {
      "cell_type": "markdown",
      "source": [
        "# Next  Topic : Python Data Structures\n",
        "---"
      ],
      "metadata": {
        "id": "N0_RdOgIjuzz"
      }
    },
    {
      "cell_type": "markdown",
      "source": [
        "quick summary :\n",
        "\n",
        "data structures enables to efficiently store and organize data.\n",
        "\n",
        "it simplifies operations like .\n",
        "\t\tadd/update/delete/search/sort\n",
        "\n",
        "there are two types(categories) of data structures .\n",
        "\n",
        "\t1. primitive types: used to store and process\n",
        "\tscaler value .eg int /float/str/ bool\n",
        "\n",
        "\t2. non primitive types: used to store and process\n",
        "\tgroup of values or a collection eg.\n",
        "\tlist/tuple/set/dict."
      ],
      "metadata": {
        "id": "jBy_Zxhcnl-j"
      }
    },
    {
      "cell_type": "code",
      "source": [],
      "metadata": {
        "id": "6SUIHXfujwZ3"
      },
      "execution_count": null,
      "outputs": []
    },
    {
      "cell_type": "markdown",
      "source": [
        "# Non Primitive Data Structures\n",
        "---"
      ],
      "metadata": {
        "id": "QCra3p-Pnor7"
      }
    },
    {
      "cell_type": "markdown",
      "source": [
        "### List\n",
        "---"
      ],
      "metadata": {
        "id": "BrKsR2S9nr6M"
      }
    },
    {
      "cell_type": "code",
      "source": [
        "grocery = ['milk' ,'bread' , 100 ,100 , 100 , True , 10.5 ]"
      ],
      "metadata": {
        "id": "V9AUjwklntW3"
      },
      "execution_count": null,
      "outputs": []
    },
    {
      "cell_type": "code",
      "source": [
        "# what is grocery ?\n",
        "\n",
        "type(grocery)"
      ],
      "metadata": {
        "colab": {
          "base_uri": "https://localhost:8080/"
        },
        "id": "aDwxq1a5n0p0",
        "outputId": "790b4bec-49ed-40c2-ef35-a25f5ef06adb"
      },
      "execution_count": null,
      "outputs": [
        {
          "output_type": "execute_result",
          "data": {
            "text/plain": [
              "list"
            ]
          },
          "metadata": {},
          "execution_count": 11
        }
      ]
    },
    {
      "cell_type": "markdown",
      "source": [
        "# What are the Characteristics of List ?\n",
        "---\n",
        "<pre>\n",
        "    🌻  A List is Created or Represented using  [ ]\n",
        "    🌻  A List can contain element of multiple DataTypes. ✅\n",
        "    🌻  A List can contain Duplicates . ✅\n",
        "    🌻  List is Mutable Data Structure .\n",
        "    it means a List allows Modifications in List Elements.\n",
        "      eg.\n",
        "          ✅ Add new Element\n",
        "          ✅ Delete Existing element\n",
        "          ✅ Update Element\n",
        "          ✅ Sort Elements."
      ],
      "metadata": {
        "id": "1aBYmlkvn_gU"
      }
    },
    {
      "cell_type": "code",
      "source": [],
      "metadata": {
        "id": "0WgbcLWon8HG"
      },
      "execution_count": null,
      "outputs": []
    },
    {
      "cell_type": "markdown",
      "source": [
        "# Let us Learn List Operations using a Real World Eg.\n",
        "---"
      ],
      "metadata": {
        "id": "UcqmLJfopDfL"
      }
    },
    {
      "cell_type": "code",
      "source": [
        "shopping_cart = []"
      ],
      "metadata": {
        "id": "cRMJDN1ZpGKN"
      },
      "execution_count": null,
      "outputs": []
    },
    {
      "cell_type": "code",
      "source": [
        "print(    'total products in cart '  ,    len ( shopping_cart)  )"
      ],
      "metadata": {
        "colab": {
          "base_uri": "https://localhost:8080/"
        },
        "id": "JuVZHN_bpTgO",
        "outputId": "8e15094e-4cb7-4c6e-a920-489eb1ddcf0e"
      },
      "execution_count": null,
      "outputs": [
        {
          "output_type": "stream",
          "name": "stdout",
          "text": [
            "total products in cart  0\n"
          ]
        }
      ]
    },
    {
      "cell_type": "code",
      "source": [
        "# len( pass your list here )\n",
        "# function: purpose\n",
        "# syntax\n",
        "# eg. len : used to find count of elements\n",
        "#  len( listhere)"
      ],
      "metadata": {
        "id": "2-dXmrjCpW68"
      },
      "execution_count": null,
      "outputs": []
    },
    {
      "cell_type": "code",
      "source": [],
      "metadata": {
        "id": "u7XzH9hzp6ME"
      },
      "execution_count": null,
      "outputs": []
    },
    {
      "cell_type": "markdown",
      "source": [
        "<pre> .append() : this function is used to add a new element in  a list\n",
        "\n",
        " syntax:      listname.append( elementHere )"
      ],
      "metadata": {
        "id": "RzKalFscqCQJ"
      }
    },
    {
      "cell_type": "code",
      "source": [
        "# Before\n",
        "shopping_cart"
      ],
      "metadata": {
        "colab": {
          "base_uri": "https://localhost:8080/"
        },
        "id": "-cOz4tkwqGis",
        "outputId": "24a0c03e-6067-4d10-b6d1-419030168d74"
      },
      "execution_count": null,
      "outputs": [
        {
          "output_type": "execute_result",
          "data": {
            "text/plain": [
              "[]"
            ]
          },
          "metadata": {},
          "execution_count": 16
        }
      ]
    },
    {
      "cell_type": "code",
      "source": [
        "shopping_cart.append( 'iPhone' )"
      ],
      "metadata": {
        "id": "MzNav9m3qJRo"
      },
      "execution_count": null,
      "outputs": []
    },
    {
      "cell_type": "code",
      "source": [
        "# after\n",
        "shopping_cart"
      ],
      "metadata": {
        "colab": {
          "base_uri": "https://localhost:8080/"
        },
        "id": "9n7dCnMsqMNE",
        "outputId": "d7afd700-581a-48ca-8cdc-80e8f1cc8b54"
      },
      "execution_count": null,
      "outputs": [
        {
          "output_type": "execute_result",
          "data": {
            "text/plain": [
              "['iPhone']"
            ]
          },
          "metadata": {},
          "execution_count": 18
        }
      ]
    },
    {
      "cell_type": "code",
      "source": [
        "shopping_cart.append('airPods')\n",
        "shopping_cart.append('macbook')\n",
        "shopping_cart.append('iwatch')\n",
        "shopping_cart.append('iPad')"
      ],
      "metadata": {
        "id": "LqK-ZjKnqNka"
      },
      "execution_count": null,
      "outputs": []
    },
    {
      "cell_type": "code",
      "source": [
        "print(shopping_cart)"
      ],
      "metadata": {
        "colab": {
          "base_uri": "https://localhost:8080/"
        },
        "id": "ZPNfusl5q-jz",
        "outputId": "dc869d88-a5e9-4bcd-c2ac-69efa160fa49"
      },
      "execution_count": null,
      "outputs": [
        {
          "output_type": "stream",
          "name": "stdout",
          "text": [
            "['iPhone', 'airPods', 'macbook', 'iwatch', 'iPad']\n"
          ]
        }
      ]
    },
    {
      "cell_type": "code",
      "source": [
        "print('total product in Cart' , len( shopping_cart ))"
      ],
      "metadata": {
        "colab": {
          "base_uri": "https://localhost:8080/"
        },
        "id": "s9BUU5tCq_XX",
        "outputId": "c12bb646-66a1-4cd2-868e-e5eb01d83d6c"
      },
      "execution_count": null,
      "outputs": [
        {
          "output_type": "stream",
          "name": "stdout",
          "text": [
            "total product in Cart 5\n"
          ]
        }
      ]
    },
    {
      "cell_type": "code",
      "source": [],
      "metadata": {
        "id": "mncyIqIFrCyH"
      },
      "execution_count": null,
      "outputs": []
    },
    {
      "cell_type": "markdown",
      "source": [
        "# Hey Rajan how do i add Multiple Elements in 1 Line ?\n",
        "---\n",
        " answer: use .extend() function"
      ],
      "metadata": {
        "id": "WKIEzV9-rHjc"
      }
    },
    {
      "cell_type": "markdown",
      "source": [
        " extend: this function is used to add multiple elements.\n",
        "\n",
        " # syntax:      listname.extend ( newListHere )"
      ],
      "metadata": {
        "id": "XnLLaEe0rPAN"
      }
    },
    {
      "cell_type": "code",
      "source": [
        "# Before\n",
        "print( shopping_cart )"
      ],
      "metadata": {
        "colab": {
          "base_uri": "https://localhost:8080/"
        },
        "id": "AT2HZ3TprLbN",
        "outputId": "ce5c2522-556e-4081-e4ce-6a7f6ccf2863"
      },
      "execution_count": null,
      "outputs": [
        {
          "output_type": "stream",
          "name": "stdout",
          "text": [
            "['iPhone', 'airPods', 'macbook', 'iwatch', 'iPad']\n"
          ]
        }
      ]
    },
    {
      "cell_type": "code",
      "source": [
        "# here is a new list\n",
        "combo_offer = ['bagpack','charger','datacable']"
      ],
      "metadata": {
        "id": "TwrsIG6grYwo"
      },
      "execution_count": null,
      "outputs": []
    },
    {
      "cell_type": "code",
      "source": [
        "# using .extend()\n",
        "\n",
        "shopping_cart.extend(    combo_offer )"
      ],
      "metadata": {
        "id": "0er1dChLrdqt"
      },
      "execution_count": null,
      "outputs": []
    },
    {
      "cell_type": "code",
      "source": [
        "# after\n",
        "print(shopping_cart)"
      ],
      "metadata": {
        "colab": {
          "base_uri": "https://localhost:8080/"
        },
        "id": "pTBHXsKKrg3g",
        "outputId": "c5399cb9-bc9c-4556-eed8-d7d27b0aa5db"
      },
      "execution_count": null,
      "outputs": [
        {
          "output_type": "stream",
          "name": "stdout",
          "text": [
            "['iPhone', 'airPods', 'macbook', 'iwatch', 'iPad', 'bagpack', 'charger', 'datacable']\n"
          ]
        }
      ]
    },
    {
      "cell_type": "code",
      "source": [],
      "metadata": {
        "id": "661y7hvzriDe"
      },
      "execution_count": null,
      "outputs": []
    },
    {
      "cell_type": "markdown",
      "source": [
        "# How Do i Access a Single / individual element in a List ?\n",
        "answer: use Index"
      ],
      "metadata": {
        "id": "i2CndOfJsNTq"
      }
    },
    {
      "cell_type": "code",
      "source": [
        "print(shopping_cart)"
      ],
      "metadata": {
        "colab": {
          "base_uri": "https://localhost:8080/"
        },
        "id": "7FI5XV30sRaO",
        "outputId": "6de65f9d-f2fb-41c3-b356-b3a9580c36a0"
      },
      "execution_count": null,
      "outputs": [
        {
          "output_type": "stream",
          "name": "stdout",
          "text": [
            "['iPhone', 'airPods', 'macbook', 'iwatch', 'iPad', 'bagpack', 'charger', 'datacable']\n"
          ]
        }
      ]
    },
    {
      "cell_type": "code",
      "source": [
        "shopping_cart[2]"
      ],
      "metadata": {
        "colab": {
          "base_uri": "https://localhost:8080/",
          "height": 36
        },
        "id": "4MCNXSPtsSDu",
        "outputId": "9968434d-c912-4371-86ed-e186bf41c5d0"
      },
      "execution_count": null,
      "outputs": [
        {
          "output_type": "execute_result",
          "data": {
            "text/plain": [
              "'macbook'"
            ],
            "application/vnd.google.colaboratory.intrinsic+json": {
              "type": "string"
            }
          },
          "metadata": {},
          "execution_count": 27
        }
      ]
    },
    {
      "cell_type": "code",
      "source": [
        "shopping_cart.index('macbook')"
      ],
      "metadata": {
        "colab": {
          "base_uri": "https://localhost:8080/"
        },
        "id": "nYWTdKTTsyXI",
        "outputId": "eaf70e7b-8952-4263-f26d-8f20e295717f"
      },
      "execution_count": null,
      "outputs": [
        {
          "output_type": "execute_result",
          "data": {
            "text/plain": [
              "2"
            ]
          },
          "metadata": {},
          "execution_count": 28
        }
      ]
    },
    {
      "cell_type": "code",
      "source": [
        "shopping_cart[-2]"
      ],
      "metadata": {
        "colab": {
          "base_uri": "https://localhost:8080/",
          "height": 36
        },
        "id": "Fu7GZEwns5LP",
        "outputId": "310c1118-f6cb-482b-f726-2efce40684ae"
      },
      "execution_count": null,
      "outputs": [
        {
          "output_type": "execute_result",
          "data": {
            "text/plain": [
              "'charger'"
            ],
            "application/vnd.google.colaboratory.intrinsic+json": {
              "type": "string"
            }
          },
          "metadata": {},
          "execution_count": 29
        }
      ]
    },
    {
      "cell_type": "code",
      "source": [],
      "metadata": {
        "id": "Fis_eeFttnyU"
      },
      "execution_count": null,
      "outputs": []
    },
    {
      "cell_type": "markdown",
      "source": [
        "# Removing Elements\n",
        "---"
      ],
      "metadata": {
        "id": "rx0o-xhht03F"
      }
    },
    {
      "cell_type": "code",
      "source": [
        "# before\n",
        "\n",
        "print( shopping_cart)"
      ],
      "metadata": {
        "colab": {
          "base_uri": "https://localhost:8080/"
        },
        "id": "H4OfAZM0t175",
        "outputId": "01c1ec15-3280-4ee9-d50e-ab6eeb264066"
      },
      "execution_count": null,
      "outputs": [
        {
          "output_type": "stream",
          "name": "stdout",
          "text": [
            "['iPhone', 'airPods', 'macbook', 'iwatch', 'iPad', 'bagpack', 'charger', 'datacable']\n"
          ]
        }
      ]
    },
    {
      "cell_type": "code",
      "source": [
        "# listname.remove( elementHere )\n",
        "\n",
        "shopping_cart.remove ( 'iwatch' )"
      ],
      "metadata": {
        "id": "_RMugrGit4ey"
      },
      "execution_count": null,
      "outputs": []
    },
    {
      "cell_type": "code",
      "source": [
        "# after\n",
        "print( shopping_cart )"
      ],
      "metadata": {
        "colab": {
          "base_uri": "https://localhost:8080/"
        },
        "id": "Q1wN6V8xt5db",
        "outputId": "bc7bcfea-5302-4b47-dcce-51f52e800735"
      },
      "execution_count": null,
      "outputs": [
        {
          "output_type": "stream",
          "name": "stdout",
          "text": [
            "['iPhone', 'airPods', 'macbook', 'iPad', 'bagpack', 'charger', 'datacable']\n"
          ]
        }
      ]
    },
    {
      "cell_type": "code",
      "source": [],
      "metadata": {
        "id": "FO_Fqaelt9gu"
      },
      "execution_count": null,
      "outputs": []
    },
    {
      "cell_type": "code",
      "source": [
        "# method 2\n",
        "\n",
        "#  del   listname[  indexHere ]"
      ],
      "metadata": {
        "id": "dhTWoy3TuQRs"
      },
      "execution_count": null,
      "outputs": []
    },
    {
      "cell_type": "code",
      "source": [
        "# before\n",
        "print( shopping_cart)"
      ],
      "metadata": {
        "colab": {
          "base_uri": "https://localhost:8080/"
        },
        "id": "cnsmgVweuSnF",
        "outputId": "89201369-668d-4cb3-bcd3-2b1a40fbbe14"
      },
      "execution_count": null,
      "outputs": [
        {
          "output_type": "stream",
          "name": "stdout",
          "text": [
            "['iPhone', 'airPods', 'macbook', 'iPad', 'bagpack', 'charger', 'datacable']\n"
          ]
        }
      ]
    },
    {
      "cell_type": "code",
      "source": [
        "\n",
        "del shopping_cart[ 0  ]"
      ],
      "metadata": {
        "id": "BGTFDc5suUUK"
      },
      "execution_count": null,
      "outputs": []
    },
    {
      "cell_type": "code",
      "source": [
        "# after\n",
        "print( shopping_cart )"
      ],
      "metadata": {
        "colab": {
          "base_uri": "https://localhost:8080/"
        },
        "id": "98jNY_KruZaU",
        "outputId": "17e17d3b-118f-4a5d-ec6a-6a1092d0bdb0"
      },
      "execution_count": null,
      "outputs": [
        {
          "output_type": "stream",
          "name": "stdout",
          "text": [
            "['airPods', 'macbook', 'iPad', 'bagpack', 'charger', 'datacable']\n"
          ]
        }
      ]
    },
    {
      "cell_type": "code",
      "source": [],
      "metadata": {
        "id": "zz6MJdBoubt8"
      },
      "execution_count": null,
      "outputs": []
    },
    {
      "cell_type": "markdown",
      "source": [
        "# sort()"
      ],
      "metadata": {
        "id": "PK7DWWvPu5mJ"
      }
    },
    {
      "cell_type": "code",
      "source": [
        "# before\n",
        "print(shopping_cart)"
      ],
      "metadata": {
        "colab": {
          "base_uri": "https://localhost:8080/"
        },
        "id": "sHFnr_p9u6S_",
        "outputId": "c28493a9-4169-4a04-e671-0ce0b22c3fe2"
      },
      "execution_count": null,
      "outputs": [
        {
          "output_type": "stream",
          "name": "stdout",
          "text": [
            "['airPods', 'macbook', 'iPad', 'bagpack', 'charger', 'datacable']\n"
          ]
        }
      ]
    },
    {
      "cell_type": "code",
      "source": [
        "shopping_cart.sort()"
      ],
      "metadata": {
        "id": "jmmXdnpiu7e7"
      },
      "execution_count": null,
      "outputs": []
    },
    {
      "cell_type": "code",
      "source": [
        "# after\n",
        "print(shopping_cart)"
      ],
      "metadata": {
        "colab": {
          "base_uri": "https://localhost:8080/"
        },
        "id": "Jh5FFp5Xu8oa",
        "outputId": "b61917f1-6d36-4ade-8c41-5aacaa540580"
      },
      "execution_count": null,
      "outputs": [
        {
          "output_type": "stream",
          "name": "stdout",
          "text": [
            "['airPods', 'bagpack', 'charger', 'datacable', 'iPad', 'macbook']\n"
          ]
        }
      ]
    },
    {
      "cell_type": "code",
      "source": [
        "# note: if a list contains mixed types of elements , list cannot be sorted."
      ],
      "metadata": {
        "id": "xZdyFjoNu-Nr"
      },
      "execution_count": null,
      "outputs": []
    },
    {
      "cell_type": "code",
      "source": [
        "# END\n",
        "# Post ☕ Break topics\n",
        "# Tuple\n",
        "# Set\n",
        "# Dictionary\n",
        "# Array\n",
        "# OOP"
      ],
      "metadata": {
        "id": "zZRjU3-OvJq_"
      },
      "execution_count": null,
      "outputs": []
    },
    {
      "cell_type": "code",
      "source": [],
      "metadata": {
        "id": "1EubJbS9vWbQ"
      },
      "execution_count": null,
      "outputs": []
    },
    {
      "cell_type": "markdown",
      "source": [
        "# Tuples\n",
        "---\n",
        "<pre>\n",
        "Context: Not all information is supposed to be modified some information must be kept READ ONLY.\n",
        "\n",
        "eg.\n",
        "    Government ID(s) eg. addhaar / pan /  passport no.\n",
        "    Bank Txn History\n",
        "    School or Education Records.\n"
      ],
      "metadata": {
        "id": "s28uRn58zuA5"
      }
    },
    {
      "cell_type": "code",
      "source": [
        "panCards =  ( 'AONP7444M' , 'IPJC0339' , 'MJCK39389')"
      ],
      "metadata": {
        "id": "F4Fa8yrcz5e4"
      },
      "execution_count": null,
      "outputs": []
    },
    {
      "cell_type": "code",
      "source": [
        "# what is pancards?\n",
        "type(panCards)"
      ],
      "metadata": {
        "colab": {
          "base_uri": "https://localhost:8080/"
        },
        "id": "yMEts18m0knR",
        "outputId": "caac1ad9-7d02-4045-8a23-b1649431c300"
      },
      "execution_count": null,
      "outputs": [
        {
          "output_type": "execute_result",
          "data": {
            "text/plain": [
              "tuple"
            ]
          },
          "metadata": {},
          "execution_count": 45
        }
      ]
    },
    {
      "cell_type": "markdown",
      "source": [
        "# what are the characteristics of tuple ?\n",
        "<prE>\n",
        "🌻  A tuple is reprsented using  ( ) .\n",
        "🌻  A Tuple can contain mixed datatype element and duplicates too.✅\n",
        "🌻 (primary difference from List) . Tuple is Immutable i.e. READONLY.\n",
        "You can't\n",
        "  ❌ Add new element in a tuple.\n",
        "  ❌ update or Delete an element in a tuple.\n",
        "  ❌ you can't sort tuple elements."
      ],
      "metadata": {
        "id": "AqiEvDhH0vUy"
      }
    },
    {
      "cell_type": "code",
      "source": [],
      "metadata": {
        "id": "RmoxiYk90qdd"
      },
      "execution_count": null,
      "outputs": []
    },
    {
      "cell_type": "markdown",
      "source": [
        "# let us confirm the read only nature of tuple.\n",
        "---"
      ],
      "metadata": {
        "id": "6EGY-LWp1VpB"
      }
    },
    {
      "cell_type": "code",
      "source": [
        "panCards"
      ],
      "metadata": {
        "colab": {
          "base_uri": "https://localhost:8080/"
        },
        "id": "7Er_DuoP1XY7",
        "outputId": "f409faf6-5964-40a4-9144-1129c0b9cfd7"
      },
      "execution_count": null,
      "outputs": [
        {
          "output_type": "execute_result",
          "data": {
            "text/plain": [
              "('AONP7444M', 'IPJC0339', 'MJCK39389')"
            ]
          },
          "metadata": {},
          "execution_count": 46
        }
      ]
    },
    {
      "cell_type": "code",
      "source": [
        "del panCards [0]"
      ],
      "metadata": {
        "colab": {
          "base_uri": "https://localhost:8080/",
          "height": 141
        },
        "id": "KapvlO5N1YD9",
        "outputId": "e0185775-caab-4669-9480-bb59a888db57"
      },
      "execution_count": null,
      "outputs": [
        {
          "output_type": "error",
          "ename": "TypeError",
          "evalue": "'tuple' object doesn't support item deletion",
          "traceback": [
            "\u001b[0;31m---------------------------------------------------------------------------\u001b[0m",
            "\u001b[0;31mTypeError\u001b[0m                                 Traceback (most recent call last)",
            "\u001b[0;32m/tmp/ipython-input-47-396766776.py\u001b[0m in \u001b[0;36m<cell line: 0>\u001b[0;34m()\u001b[0m\n\u001b[0;32m----> 1\u001b[0;31m \u001b[0;32mdel\u001b[0m \u001b[0mpanCards\u001b[0m \u001b[0;34m[\u001b[0m\u001b[0;36m0\u001b[0m\u001b[0;34m]\u001b[0m\u001b[0;34m\u001b[0m\u001b[0;34m\u001b[0m\u001b[0m\n\u001b[0m",
            "\u001b[0;31mTypeError\u001b[0m: 'tuple' object doesn't support item deletion"
          ]
        }
      ]
    },
    {
      "cell_type": "code",
      "source": [
        "# diy activity : can we modify a list inside a tuple ?"
      ],
      "metadata": {
        "id": "34UKE17_1c1t"
      },
      "execution_count": null,
      "outputs": []
    },
    {
      "cell_type": "code",
      "source": [],
      "metadata": {
        "id": "XgsPeTic1vlU"
      },
      "execution_count": null,
      "outputs": []
    },
    {
      "cell_type": "markdown",
      "source": [
        "# SET\n",
        "---"
      ],
      "metadata": {
        "id": "q7oqJbWE10ob"
      }
    },
    {
      "cell_type": "code",
      "source": [
        "colors = { 'orange','orange','indigo','indigo','indigo','maroon','maroon'}"
      ],
      "metadata": {
        "id": "A4okDwUI11sC"
      },
      "execution_count": null,
      "outputs": []
    },
    {
      "cell_type": "code",
      "source": [
        "for item in colors:\n",
        "  print( item )"
      ],
      "metadata": {
        "colab": {
          "base_uri": "https://localhost:8080/"
        },
        "id": "9Yi41Ef22mYi",
        "outputId": "23190963-d949-4e53-dbc6-da8905b1b2d6"
      },
      "execution_count": null,
      "outputs": [
        {
          "output_type": "stream",
          "name": "stdout",
          "text": [
            "maroon\n",
            "orange\n",
            "indigo\n"
          ]
        }
      ]
    },
    {
      "cell_type": "markdown",
      "source": [
        "# Characteristics of SET\n",
        "---\n",
        "<pre>\n",
        "  🌻 Set is represented using { }\n",
        "  🌻 Set is know for removing(automatic) duplicates.\n",
        "  🌻 each element in set will be Unique.\n",
        "  🌻 Set is Unordered Collection or Data Structure."
      ],
      "metadata": {
        "id": "RQsjYYW72KQR"
      }
    },
    {
      "cell_type": "code",
      "source": [
        "# what does unordered means here ?"
      ],
      "metadata": {
        "id": "d4-AKAoF1-GU"
      },
      "execution_count": null,
      "outputs": []
    },
    {
      "cell_type": "code",
      "source": [
        "# before\n",
        "print( colors )"
      ],
      "metadata": {
        "colab": {
          "base_uri": "https://localhost:8080/"
        },
        "id": "AOomZTw32gNy",
        "outputId": "ebbc1f9d-3701-476c-ed44-067db0769db7"
      },
      "execution_count": null,
      "outputs": [
        {
          "output_type": "stream",
          "name": "stdout",
          "text": [
            "{'maroon', 'orange', 'indigo'}\n"
          ]
        }
      ]
    },
    {
      "cell_type": "code",
      "source": [
        "colors.add('brown')"
      ],
      "metadata": {
        "id": "tkggqrGV25Qu"
      },
      "execution_count": null,
      "outputs": []
    },
    {
      "cell_type": "code",
      "source": [
        "print( colors )"
      ],
      "metadata": {
        "colab": {
          "base_uri": "https://localhost:8080/"
        },
        "id": "G8sBg04D27TW",
        "outputId": "f712cbac-7a2a-4d2f-b500-c4c8402056b4"
      },
      "execution_count": null,
      "outputs": [
        {
          "output_type": "stream",
          "name": "stdout",
          "text": [
            "{'maroon', 'orange', 'indigo', 'brown'}\n"
          ]
        }
      ]
    },
    {
      "cell_type": "code",
      "source": [
        "colors.add('apricot')"
      ],
      "metadata": {
        "id": "R3AVDreE2-g7"
      },
      "execution_count": null,
      "outputs": []
    },
    {
      "cell_type": "code",
      "source": [
        "colors"
      ],
      "metadata": {
        "colab": {
          "base_uri": "https://localhost:8080/"
        },
        "id": "T9NnWIik3CzD",
        "outputId": "b065e57d-b3a4-4420-84fb-d2a12c1c1dfc"
      },
      "execution_count": null,
      "outputs": [
        {
          "output_type": "execute_result",
          "data": {
            "text/plain": [
              "{'apricot', 'brown', 'indigo', 'maroon', 'orange'}"
            ]
          },
          "metadata": {},
          "execution_count": 63
        }
      ]
    },
    {
      "cell_type": "code",
      "source": [
        "colors.add('cherry')"
      ],
      "metadata": {
        "id": "U6VRwrTB3DFc"
      },
      "execution_count": null,
      "outputs": []
    },
    {
      "cell_type": "code",
      "source": [
        "colors"
      ],
      "metadata": {
        "colab": {
          "base_uri": "https://localhost:8080/"
        },
        "id": "iTLm8Bfp3FOa",
        "outputId": "44a2bcfe-7707-4c0c-a935-a2c2c1947d6d"
      },
      "execution_count": null,
      "outputs": [
        {
          "output_type": "execute_result",
          "data": {
            "text/plain": [
              "{'apricot', 'brown', 'cherry', 'indigo', 'maroon', 'orange'}"
            ]
          },
          "metadata": {},
          "execution_count": 65
        }
      ]
    },
    {
      "cell_type": "code",
      "source": [
        "colors.add('banyan')"
      ],
      "metadata": {
        "id": "JKv7K6J43Fgg"
      },
      "execution_count": null,
      "outputs": []
    },
    {
      "cell_type": "code",
      "source": [
        "print(colors)"
      ],
      "metadata": {
        "colab": {
          "base_uri": "https://localhost:8080/"
        },
        "id": "fLEPNxoD3IJL",
        "outputId": "402cf5e7-390e-4f30-af33-1bf1eda1feac"
      },
      "execution_count": null,
      "outputs": [
        {
          "output_type": "stream",
          "name": "stdout",
          "text": [
            "{'maroon', 'orange', 'cherry', 'indigo', 'apricot', 'banyan', 'brown'}\n"
          ]
        }
      ]
    },
    {
      "cell_type": "code",
      "source": [
        "# but in case of list or dictionary  ! the order of elements i.e index position will be retained.\n",
        "# in simple the order in which you add elements , the same order will be followed while fetching elements.\n",
        "# this is called ordered\n",
        "\n",
        "# set is unordered means the order of elements in not retained or fixed. it changes after every addition or removal\n",
        "# of elements."
      ],
      "metadata": {
        "id": "0mmgmAnT3JK0"
      },
      "execution_count": null,
      "outputs": []
    },
    {
      "cell_type": "code",
      "source": [
        "# because set is unorderd thats why indexing isn't supported in set."
      ],
      "metadata": {
        "id": "GPsAKUmq3mt7"
      },
      "execution_count": null,
      "outputs": []
    },
    {
      "cell_type": "code",
      "source": [
        "print ( colors [0]  )"
      ],
      "metadata": {
        "colab": {
          "base_uri": "https://localhost:8080/",
          "height": 141
        },
        "id": "l5LzUekD3yPn",
        "outputId": "81da1077-46a6-4546-c1aa-01be5f4447a2"
      },
      "execution_count": null,
      "outputs": [
        {
          "output_type": "error",
          "ename": "TypeError",
          "evalue": "'set' object is not subscriptable",
          "traceback": [
            "\u001b[0;31m---------------------------------------------------------------------------\u001b[0m",
            "\u001b[0;31mTypeError\u001b[0m                                 Traceback (most recent call last)",
            "\u001b[0;32m/tmp/ipython-input-71-2813153979.py\u001b[0m in \u001b[0;36m<cell line: 0>\u001b[0;34m()\u001b[0m\n\u001b[0;32m----> 1\u001b[0;31m \u001b[0mprint\u001b[0m \u001b[0;34m(\u001b[0m \u001b[0mcolors\u001b[0m \u001b[0;34m[\u001b[0m\u001b[0;36m0\u001b[0m\u001b[0;34m]\u001b[0m  \u001b[0;34m)\u001b[0m\u001b[0;34m\u001b[0m\u001b[0;34m\u001b[0m\u001b[0m\n\u001b[0m",
            "\u001b[0;31mTypeError\u001b[0m: 'set' object is not subscriptable"
          ]
        }
      ]
    },
    {
      "cell_type": "code",
      "source": [],
      "metadata": {
        "id": "kJme5cDo3zkP"
      },
      "execution_count": null,
      "outputs": []
    },
    {
      "cell_type": "markdown",
      "source": [
        "# Let us Understand a Real world Usage of SET\n",
        "---"
      ],
      "metadata": {
        "id": "5i3FYbVX35Ik"
      }
    },
    {
      "cell_type": "code",
      "source": [
        "sales_team =  {'casselyn' , 'andika', 'miki' ,'manoj' ,'nicklaus'}\n",
        "\n",
        "marketing_team =  { 'zhining', 'casselyn' , 'timi tao' , 'andika' , 'naomi' }"
      ],
      "metadata": {
        "id": "VGOActGQ37NK"
      },
      "execution_count": null,
      "outputs": []
    },
    {
      "cell_type": "markdown",
      "source": [
        "# Analytics using SET\n",
        "---"
      ],
      "metadata": {
        "id": "sv-4lY6a4UrI"
      }
    },
    {
      "cell_type": "code",
      "source": [
        "# Objective: you are asked to find Employee working for both the teams i.e. sales and Marketing.\n",
        "\n",
        "# answer: intersection: intersection help us find common elements."
      ],
      "metadata": {
        "id": "NU2bZJOI4SUN"
      },
      "execution_count": null,
      "outputs": []
    },
    {
      "cell_type": "code",
      "source": [
        "sales_team.intersection( marketing_team )"
      ],
      "metadata": {
        "colab": {
          "base_uri": "https://localhost:8080/"
        },
        "id": "mfPMsGQX4Z5S",
        "outputId": "e86b612e-6cb9-4063-f5c5-9590663e307f"
      },
      "execution_count": null,
      "outputs": [
        {
          "output_type": "execute_result",
          "data": {
            "text/plain": [
              "{'andika', 'casselyn'}"
            ]
          },
          "metadata": {},
          "execution_count": 80
        }
      ]
    },
    {
      "cell_type": "code",
      "source": [
        "# alternative\n",
        "sales_team  & marketing_team"
      ],
      "metadata": {
        "colab": {
          "base_uri": "https://localhost:8080/"
        },
        "id": "qU3Bdsyp4hAR",
        "outputId": "299f8762-935f-42e7-ae4f-514a62a824e8"
      },
      "execution_count": null,
      "outputs": [
        {
          "output_type": "execute_result",
          "data": {
            "text/plain": [
              "{'andika', 'casselyn'}"
            ]
          },
          "metadata": {},
          "execution_count": 81
        }
      ]
    },
    {
      "cell_type": "code",
      "source": [
        "{1,2,3,4,5}.intersection({3,4,5,6})"
      ],
      "metadata": {
        "colab": {
          "base_uri": "https://localhost:8080/"
        },
        "id": "oC-mqaWl4mR_",
        "outputId": "5b4fb6ac-8461-4c20-fcb1-8a5e740898c8"
      },
      "execution_count": null,
      "outputs": [
        {
          "output_type": "execute_result",
          "data": {
            "text/plain": [
              "{3, 4, 5}"
            ]
          },
          "metadata": {},
          "execution_count": 82
        }
      ]
    },
    {
      "cell_type": "code",
      "source": [],
      "metadata": {
        "id": "FaEH4I8-4w08"
      },
      "execution_count": null,
      "outputs": []
    },
    {
      "cell_type": "code",
      "source": [
        "sales_team"
      ],
      "metadata": {
        "colab": {
          "base_uri": "https://localhost:8080/"
        },
        "id": "yLkYk93M44OI",
        "outputId": "4ac83a53-7b39-49f4-c245-f5eef026fb4d"
      },
      "execution_count": null,
      "outputs": [
        {
          "output_type": "execute_result",
          "data": {
            "text/plain": [
              "{'andika', 'casselyn', 'manoj', 'miki', 'nicklaus'}"
            ]
          },
          "metadata": {},
          "execution_count": 83
        }
      ]
    },
    {
      "cell_type": "code",
      "source": [
        "marketing_team"
      ],
      "metadata": {
        "colab": {
          "base_uri": "https://localhost:8080/"
        },
        "id": "nhGiqmdC45SY",
        "outputId": "ad02b8f4-5b3f-45b8-aadc-f66451d8bf1b"
      },
      "execution_count": null,
      "outputs": [
        {
          "output_type": "execute_result",
          "data": {
            "text/plain": [
              "{'andika', 'casselyn', 'naomi', 'timi tao', 'zhining'}"
            ]
          },
          "metadata": {},
          "execution_count": 84
        }
      ]
    },
    {
      "cell_type": "code",
      "source": [
        "# objective: you are asked to prepare a report containing names of all emloyees from both team(s)\n",
        "# answer: union: union is used to merge 2 sets and form a new set."
      ],
      "metadata": {
        "id": "gpXPzhJJ46gm"
      },
      "execution_count": null,
      "outputs": []
    },
    {
      "cell_type": "code",
      "source": [
        "print(  sales_team.union( marketing_team) )"
      ],
      "metadata": {
        "colab": {
          "base_uri": "https://localhost:8080/"
        },
        "id": "O0K9DZJa4-Jq",
        "outputId": "57b50925-9ebd-4b7e-b27a-e18e408ec187"
      },
      "execution_count": null,
      "outputs": [
        {
          "output_type": "stream",
          "name": "stdout",
          "text": [
            "{'naomi', 'miki', 'nicklaus', 'casselyn', 'timi tao', 'zhining', 'andika', 'manoj'}\n"
          ]
        }
      ]
    },
    {
      "cell_type": "code",
      "source": [
        "# alternative\n",
        "print ( sales_team | marketing_team )"
      ],
      "metadata": {
        "colab": {
          "base_uri": "https://localhost:8080/"
        },
        "id": "_shFdTlM5C9G",
        "outputId": "67178be1-decf-4686-9e9e-c92e1dff293e"
      },
      "execution_count": null,
      "outputs": [
        {
          "output_type": "stream",
          "name": "stdout",
          "text": [
            "{'naomi', 'miki', 'nicklaus', 'casselyn', 'timi tao', 'zhining', 'andika', 'manoj'}\n"
          ]
        }
      ]
    },
    {
      "cell_type": "code",
      "source": [],
      "metadata": {
        "id": "DHtXSFSQ5Hlg"
      },
      "execution_count": null,
      "outputs": []
    },
    {
      "cell_type": "code",
      "source": [
        "sales_team"
      ],
      "metadata": {
        "colab": {
          "base_uri": "https://localhost:8080/"
        },
        "id": "MHlG5sRk5SMo",
        "outputId": "331080fb-ca42-4dbb-8ac9-19dacb8afe2a"
      },
      "execution_count": null,
      "outputs": [
        {
          "output_type": "execute_result",
          "data": {
            "text/plain": [
              "{'andika', 'casselyn', 'manoj', 'miki', 'nicklaus'}"
            ]
          },
          "metadata": {},
          "execution_count": 91
        }
      ]
    },
    {
      "cell_type": "code",
      "source": [
        "marketing_team"
      ],
      "metadata": {
        "colab": {
          "base_uri": "https://localhost:8080/"
        },
        "id": "VClts3Mi5S-_",
        "outputId": "53881727-e925-48b9-b611-69bbeceaf482"
      },
      "execution_count": null,
      "outputs": [
        {
          "output_type": "execute_result",
          "data": {
            "text/plain": [
              "{'andika', 'casselyn', 'naomi', 'timi tao', 'zhining'}"
            ]
          },
          "metadata": {},
          "execution_count": 92
        }
      ]
    },
    {
      "cell_type": "code",
      "source": [
        "# objective: you are asked to find employees of Sales team working only for sales team .\n",
        "# difference : difference returns elements of first set only excluding commons.\n",
        "\n",
        "sales_team.difference ( marketing_team )"
      ],
      "metadata": {
        "colab": {
          "base_uri": "https://localhost:8080/"
        },
        "id": "97Ti66zb5T-L",
        "outputId": "508c0cf0-463a-4587-a0ea-127dd36edf0c"
      },
      "execution_count": null,
      "outputs": [
        {
          "output_type": "execute_result",
          "data": {
            "text/plain": [
              "{'manoj', 'miki', 'nicklaus'}"
            ]
          },
          "metadata": {},
          "execution_count": 93
        }
      ]
    },
    {
      "cell_type": "code",
      "source": [
        "# alternatively\n",
        "sales_team - marketing_team"
      ],
      "metadata": {
        "colab": {
          "base_uri": "https://localhost:8080/"
        },
        "id": "-NmaydKJ5sXG",
        "outputId": "9ac6db97-2c22-4054-bdeb-16ce51e90dad"
      },
      "execution_count": null,
      "outputs": [
        {
          "output_type": "execute_result",
          "data": {
            "text/plain": [
              "{'manoj', 'miki', 'nicklaus'}"
            ]
          },
          "metadata": {},
          "execution_count": 94
        }
      ]
    },
    {
      "cell_type": "code",
      "source": [],
      "metadata": {
        "id": "Qcx_1uAO5twl"
      },
      "execution_count": null,
      "outputs": []
    },
    {
      "cell_type": "code",
      "source": [
        "sales_team"
      ],
      "metadata": {
        "colab": {
          "base_uri": "https://localhost:8080/"
        },
        "id": "ywb4NMdF55kd",
        "outputId": "085b5383-492a-47ff-c1c0-5d32d320262d"
      },
      "execution_count": null,
      "outputs": [
        {
          "output_type": "execute_result",
          "data": {
            "text/plain": [
              "{'andika', 'casselyn', 'manoj', 'miki', 'nicklaus'}"
            ]
          },
          "metadata": {},
          "execution_count": 95
        }
      ]
    },
    {
      "cell_type": "code",
      "source": [
        "marketing_team"
      ],
      "metadata": {
        "colab": {
          "base_uri": "https://localhost:8080/"
        },
        "id": "BBIRkFW155i0",
        "outputId": "13756f47-7d7e-4d46-d08a-11bdbf6e3ca1"
      },
      "execution_count": null,
      "outputs": [
        {
          "output_type": "execute_result",
          "data": {
            "text/plain": [
              "{'andika', 'casselyn', 'naomi', 'timi tao', 'zhining'}"
            ]
          },
          "metadata": {},
          "execution_count": 97
        }
      ]
    },
    {
      "cell_type": "code",
      "source": [
        "# objective: you are asked to find all employees from both team excluding commons\n",
        "\n",
        "# symmetric_difference : this returns elements from both sets excluding commons"
      ],
      "metadata": {
        "id": "vfG57VyG55gg"
      },
      "execution_count": null,
      "outputs": []
    },
    {
      "cell_type": "code",
      "source": [
        "print( sales_team.symmetric_difference ( marketing_team ))"
      ],
      "metadata": {
        "colab": {
          "base_uri": "https://localhost:8080/"
        },
        "id": "EFto0c2455eq",
        "outputId": "62294104-f49f-45fb-d928-3f95a074afc4"
      },
      "execution_count": null,
      "outputs": [
        {
          "output_type": "stream",
          "name": "stdout",
          "text": [
            "{'naomi', 'miki', 'nicklaus', 'manoj', 'timi tao', 'zhining'}\n"
          ]
        }
      ]
    },
    {
      "cell_type": "code",
      "source": [
        "# alternative\n",
        "\n",
        "sales_team ^ marketing_team"
      ],
      "metadata": {
        "colab": {
          "base_uri": "https://localhost:8080/"
        },
        "id": "OTZTYW_i55cl",
        "outputId": "489851e0-2fc2-4010-b4b9-bf0b68dbd00c"
      },
      "execution_count": null,
      "outputs": [
        {
          "output_type": "execute_result",
          "data": {
            "text/plain": [
              "{'manoj', 'miki', 'naomi', 'nicklaus', 'timi tao', 'zhining'}"
            ]
          },
          "metadata": {},
          "execution_count": 100
        }
      ]
    },
    {
      "cell_type": "code",
      "source": [
        "#"
      ],
      "metadata": {
        "id": "K0dHww2o55Ys"
      },
      "execution_count": null,
      "outputs": []
    },
    {
      "cell_type": "markdown",
      "source": [
        "# Union vs Symmetric_difference\n",
        "---\n",
        "<pre>\n",
        "Operation Meaning union (∪) Combines all unique elements from both sets (includes commons) symmetric_difference (∆) <br/> Combines elements that are in either set but not both (excludes commons)"
      ],
      "metadata": {
        "id": "__-7WNua6ujE"
      }
    },
    {
      "cell_type": "code",
      "source": [],
      "metadata": {
        "id": "wmOl18CX6wln"
      },
      "execution_count": null,
      "outputs": []
    },
    {
      "cell_type": "markdown",
      "source": [
        "# Dictionary\n",
        "----"
      ],
      "metadata": {
        "id": "WvOo8b1365Q-"
      }
    },
    {
      "cell_type": "code",
      "source": [
        "# below data\n",
        "\n",
        "[ 4928 , 'arvind' , 4 ,7 ,1028 ,'praveen' ]\n",
        "\n",
        "\n",
        "# in above data it is hard to understand or describe the context of each value.\n",
        "# eg. who is buyer / supplier / price / day   / month / year etc."
      ],
      "metadata": {
        "colab": {
          "base_uri": "https://localhost:8080/"
        },
        "id": "K9oeTTfS63TQ",
        "outputId": "08a8526f-c181-432f-af56-8fc97ff8a2f4"
      },
      "execution_count": null,
      "outputs": [
        {
          "output_type": "execute_result",
          "data": {
            "text/plain": [
              "[4928, 'arvind', 4, 7, 1028, 'praveen']"
            ]
          },
          "metadata": {},
          "execution_count": 102
        }
      ]
    },
    {
      "cell_type": "code",
      "source": [],
      "metadata": {
        "id": "yLcpDn2i64Kc"
      },
      "execution_count": null,
      "outputs": []
    },
    {
      "cell_type": "code",
      "source": [
        "{'buyer' : 'praveen' ,\n",
        " 'supplier' : 'arvind' ,\n",
        " 'quantity' : 4928,\n",
        " 'day':4,\n",
        " 'month':7}"
      ],
      "metadata": {
        "colab": {
          "base_uri": "https://localhost:8080/"
        },
        "id": "rWnSMF_C7bpw",
        "outputId": "39e955dd-f22d-4b1c-9777-3dd0a74b4958"
      },
      "execution_count": null,
      "outputs": [
        {
          "output_type": "execute_result",
          "data": {
            "text/plain": [
              "{'buyer': 'praveen',\n",
              " 'supplier': 'arvind',\n",
              " 'quantity': 4928,\n",
              " 'day': 4,\n",
              " 'month': 7}"
            ]
          },
          "metadata": {},
          "execution_count": 103
        }
      ]
    },
    {
      "cell_type": "code",
      "source": [],
      "metadata": {
        "id": "dmz_GxV-7iSn"
      },
      "execution_count": null,
      "outputs": []
    },
    {
      "cell_type": "code",
      "source": [
        "#  { key : value }\n",
        "\n",
        "\n",
        "{ 'water' :  [ 'jal' , 'neer' , 'nilu'  , 'pani'] }\n",
        "\n",
        "# key : string\n",
        "# value : list\n",
        "\n",
        "# word and its synonyms"
      ],
      "metadata": {
        "colab": {
          "base_uri": "https://localhost:8080/"
        },
        "id": "ZedYkFW58S-T",
        "outputId": "19d9d39b-221f-4595-a748-c21cfa952637"
      },
      "execution_count": null,
      "outputs": [
        {
          "output_type": "execute_result",
          "data": {
            "text/plain": [
              "{'water': ['jal', 'neer', 'nilu', 'pani']}"
            ]
          },
          "metadata": {},
          "execution_count": 104
        }
      ]
    },
    {
      "cell_type": "code",
      "source": [],
      "metadata": {
        "id": "44Wo_Uap8bce"
      },
      "execution_count": null,
      "outputs": []
    },
    {
      "cell_type": "code",
      "source": [
        "# let us learn dictionary from the scratch"
      ],
      "metadata": {
        "id": "sSBHyNX88sCW"
      },
      "execution_count": null,
      "outputs": []
    },
    {
      "cell_type": "code",
      "source": [
        "usa  = { }\n"
      ],
      "metadata": {
        "id": "nGs91sdu8the"
      },
      "execution_count": null,
      "outputs": []
    },
    {
      "cell_type": "code",
      "source": [
        "# Syntax to add a Key/value Pair in a dictionary\n",
        "\n",
        "# dictName [ keyHere ] = valueHere"
      ],
      "metadata": {
        "id": "ADixkkya8vXV"
      },
      "execution_count": null,
      "outputs": []
    },
    {
      "cell_type": "code",
      "source": [
        "usa['CA'] = 'California'"
      ],
      "metadata": {
        "id": "L_qAnGsm866Q"
      },
      "execution_count": null,
      "outputs": []
    },
    {
      "cell_type": "code",
      "source": [
        "usa"
      ],
      "metadata": {
        "colab": {
          "base_uri": "https://localhost:8080/"
        },
        "id": "eQdZOpcS89LH",
        "outputId": "2002bd45-02ed-42df-e274-73f4bc2e98f6"
      },
      "execution_count": null,
      "outputs": [
        {
          "output_type": "execute_result",
          "data": {
            "text/plain": [
              "{'CA': 'California'}"
            ]
          },
          "metadata": {},
          "execution_count": 109
        }
      ]
    },
    {
      "cell_type": "code",
      "source": [
        "usa['TX'] = 'Texas'\n",
        "usa['AL'] = 'Alabama'\n",
        "usa['AR'] = 'Arkansas'"
      ],
      "metadata": {
        "id": "OOAiBftU89XX"
      },
      "execution_count": null,
      "outputs": []
    },
    {
      "cell_type": "code",
      "source": [
        "print( usa )"
      ],
      "metadata": {
        "colab": {
          "base_uri": "https://localhost:8080/"
        },
        "id": "k7Bu09Ku9M-6",
        "outputId": "4bb479d6-100a-449f-ed6a-22fb68e6d4f6"
      },
      "execution_count": null,
      "outputs": [
        {
          "output_type": "stream",
          "name": "stdout",
          "text": [
            "{'CA': 'California', 'TX': 'Texas', 'AL': 'Alabama', 'AR': 'Arkansas'}\n"
          ]
        }
      ]
    },
    {
      "cell_type": "code",
      "source": [
        "\n",
        "usa[\"IL\"] = \"Illinois\""
      ],
      "metadata": {
        "id": "zoZxS2BZ9NqU"
      },
      "execution_count": null,
      "outputs": []
    },
    {
      "cell_type": "code",
      "source": [
        "print( usa )"
      ],
      "metadata": {
        "colab": {
          "base_uri": "https://localhost:8080/"
        },
        "id": "BXf3mbp59dpg",
        "outputId": "0cf17178-918c-461a-9238-0d9f341d3237"
      },
      "execution_count": null,
      "outputs": [
        {
          "output_type": "stream",
          "name": "stdout",
          "text": [
            "{'CA': 'California', 'TX': 'Texas', 'AL': 'Alabama', 'AR': 'Arkansas', 'IL': 'Illinois'}\n"
          ]
        }
      ]
    },
    {
      "cell_type": "code",
      "source": [
        "# characteristics\n",
        "# 🌻 Each Element in  a Dictionary is  a Key/Value Pair !\n",
        "# 🌻 YOu cannot repeat a Key in Dictionary\n",
        "# 🌻 Dictionary is Mutable Data Structure.\n",
        "# 🌻 Only Immutable DataTypes can be used as Key . Mutable DataTypes aren't allowd to be used as Key.\n",
        "\n",
        "# Mutable Types : List / Set / Dictionary\n",
        "\n",
        "# Immutable Types : int / str / float /bool / tuple\n",
        "\n",
        "# eg.\n",
        "\n",
        "#  { 'a' : 'apple' } ✅ here# key 'a' is Valid because 'a' is string and is immutable.\n",
        "\n",
        "#  { ['a'] : 'apple' } ❌ # here key ['a'] is invalid as ['a'] is list and is mutable.\n"
      ],
      "metadata": {
        "id": "O0GYzmd59eUX"
      },
      "execution_count": null,
      "outputs": []
    },
    {
      "cell_type": "code",
      "source": [
        "data  = { ('alice',2016) : 8500  , ('alice',2017): 9500 , ('alice',2018) : 4500 }\n",
        "\n",
        "# key: is tuple where ( key is a combination of employee name and working year)\n",
        "# value : is sale made by the employee"
      ],
      "metadata": {
        "id": "5Vro_gdK9yB0"
      },
      "execution_count": null,
      "outputs": []
    },
    {
      "cell_type": "code",
      "source": [
        "data[('alice',2016)]"
      ],
      "metadata": {
        "colab": {
          "base_uri": "https://localhost:8080/"
        },
        "id": "7_rXLxnj-1WJ",
        "outputId": "a35fe9b7-11d3-4b46-b776-4a53661e2ab7"
      },
      "execution_count": null,
      "outputs": [
        {
          "output_type": "execute_result",
          "data": {
            "text/plain": [
              "8500"
            ]
          },
          "metadata": {},
          "execution_count": 122
        }
      ]
    },
    {
      "cell_type": "markdown",
      "source": [
        "# Fetch Value ! using KEY\n",
        "\n",
        "# Syntax:\n",
        "method 1            dictName[ KeyHere ]\n",
        "\n",
        "method 2            dictName.get( keyHere )"
      ],
      "metadata": {
        "id": "KyodRAZE--Am"
      }
    },
    {
      "cell_type": "code",
      "source": [
        "print( usa )"
      ],
      "metadata": {
        "colab": {
          "base_uri": "https://localhost:8080/"
        },
        "id": "DM5xq81O_DHO",
        "outputId": "c93d6185-f744-4881-cd48-583e3f735a95"
      },
      "execution_count": null,
      "outputs": [
        {
          "output_type": "stream",
          "name": "stdout",
          "text": [
            "{'CA': 'California', 'TX': 'Texas', 'AL': 'Alabama', 'AR': 'Arkansas', 'IL': 'Illinois'}\n"
          ]
        }
      ]
    },
    {
      "cell_type": "code",
      "source": [
        "# method 1\n",
        "\n",
        "usa['TX']"
      ],
      "metadata": {
        "colab": {
          "base_uri": "https://localhost:8080/",
          "height": 36
        },
        "id": "tXOrYX_w_Fs4",
        "outputId": "70374e7d-3f27-40ae-b617-2b0e8cc308b8"
      },
      "execution_count": null,
      "outputs": [
        {
          "output_type": "execute_result",
          "data": {
            "text/plain": [
              "'Texas'"
            ],
            "application/vnd.google.colaboratory.intrinsic+json": {
              "type": "string"
            }
          },
          "metadata": {},
          "execution_count": 118
        }
      ]
    },
    {
      "cell_type": "code",
      "source": [
        "# method 2\n",
        "usa.get ('TX')"
      ],
      "metadata": {
        "colab": {
          "base_uri": "https://localhost:8080/",
          "height": 36
        },
        "id": "K2ud6yBP_HIa",
        "outputId": "59bdf748-7407-475a-edeb-f717af523f2d"
      },
      "execution_count": null,
      "outputs": [
        {
          "output_type": "execute_result",
          "data": {
            "text/plain": [
              "'Texas'"
            ],
            "application/vnd.google.colaboratory.intrinsic+json": {
              "type": "string"
            }
          },
          "metadata": {},
          "execution_count": 120
        }
      ]
    },
    {
      "cell_type": "code",
      "source": [
        "# what happens if you repeat key ?\n",
        "# before\n",
        "print( usa )"
      ],
      "metadata": {
        "colab": {
          "base_uri": "https://localhost:8080/"
        },
        "id": "ENh4WxvV_Ilo",
        "outputId": "d8f8105f-e934-4c4e-b0ea-9cf391b2a296"
      },
      "execution_count": null,
      "outputs": [
        {
          "output_type": "stream",
          "name": "stdout",
          "text": [
            "{'CA': 'California', 'TX': 'Texas', 'AL': 'Alabama', 'AR': 'Arkansas', 'IL': 'Illinois'}\n"
          ]
        }
      ]
    },
    {
      "cell_type": "code",
      "source": [
        "usa['TX'] ='T-REX'"
      ],
      "metadata": {
        "id": "pZUAU3km_qoC"
      },
      "execution_count": null,
      "outputs": []
    },
    {
      "cell_type": "code",
      "source": [
        "print( usa )"
      ],
      "metadata": {
        "colab": {
          "base_uri": "https://localhost:8080/"
        },
        "id": "Cw8NEtpG_sDQ",
        "outputId": "50ff7ded-9222-44d9-82a9-3b9c34d18b05"
      },
      "execution_count": null,
      "outputs": [
        {
          "output_type": "stream",
          "name": "stdout",
          "text": [
            "{'CA': 'California', 'TX': 'T-REX', 'AL': 'Alabama', 'AR': 'Arkansas', 'IL': 'Illinois'}\n"
          ]
        }
      ]
    },
    {
      "cell_type": "code",
      "source": [],
      "metadata": {
        "id": "FzYh63Ag_skG"
      },
      "execution_count": null,
      "outputs": []
    },
    {
      "cell_type": "code",
      "source": [
        "# here are some useful functions of dictionary !\n",
        "print ( usa )"
      ],
      "metadata": {
        "colab": {
          "base_uri": "https://localhost:8080/"
        },
        "id": "e2CbOou3_3cq",
        "outputId": "1f546b28-30c5-4d79-fddd-44eba1eab9aa"
      },
      "execution_count": null,
      "outputs": [
        {
          "output_type": "stream",
          "name": "stdout",
          "text": [
            "{'CA': 'California', 'TX': 'T-REX', 'AL': 'Alabama', 'AR': 'Arkansas', 'IL': 'Illinois'}\n"
          ]
        }
      ]
    },
    {
      "cell_type": "code",
      "source": [
        "# .keys(): returns only keys\n",
        "\n",
        "usa.keys()"
      ],
      "metadata": {
        "colab": {
          "base_uri": "https://localhost:8080/"
        },
        "id": "LNZ0SCQj_5nE",
        "outputId": "2d257165-3d2c-4fa2-96a1-10628fdd7b52"
      },
      "execution_count": null,
      "outputs": [
        {
          "output_type": "execute_result",
          "data": {
            "text/plain": [
              "dict_keys(['CA', 'TX', 'AL', 'AR', 'IL'])"
            ]
          },
          "metadata": {},
          "execution_count": 127
        }
      ]
    },
    {
      "cell_type": "code",
      "source": [
        "# .values() : returns only values.\n",
        "usa.values()"
      ],
      "metadata": {
        "colab": {
          "base_uri": "https://localhost:8080/"
        },
        "id": "Xep1nQzS_7of",
        "outputId": "5dad568b-e321-4151-f8d4-461a99050e8d"
      },
      "execution_count": null,
      "outputs": [
        {
          "output_type": "execute_result",
          "data": {
            "text/plain": [
              "dict_values(['California', 'T-REX', 'Alabama', 'Arkansas', 'Illinois'])"
            ]
          },
          "metadata": {},
          "execution_count": 128
        }
      ]
    },
    {
      "cell_type": "code",
      "source": [
        "# .items(): returns key/value pair stored in a  tuple.\n",
        "\n",
        "print( usa.items() )"
      ],
      "metadata": {
        "colab": {
          "base_uri": "https://localhost:8080/"
        },
        "id": "yr_29x6Q_-Xo",
        "outputId": "ab5177c7-0391-42a2-fff0-8902d2732501"
      },
      "execution_count": null,
      "outputs": [
        {
          "output_type": "stream",
          "name": "stdout",
          "text": [
            "dict_items([('CA', 'California'), ('TX', 'T-REX'), ('AL', 'Alabama'), ('AR', 'Arkansas'), ('IL', 'Illinois')])\n"
          ]
        }
      ]
    },
    {
      "cell_type": "code",
      "source": [],
      "metadata": {
        "id": "6G4Q5SyEACAH"
      },
      "execution_count": null,
      "outputs": []
    },
    {
      "cell_type": "markdown",
      "source": [
        "# Tomorrows Agenda\n",
        "------\n",
        "# OOP  (Object Oriented programming)\n",
        "# FLASK\n"
      ],
      "metadata": {
        "id": "RCC5C7xRAM5L"
      }
    },
    {
      "cell_type": "code",
      "source": [
        "# can you please discuss difference b/w array and list"
      ],
      "metadata": {
        "id": "geKP5Ev7ASdT"
      },
      "execution_count": null,
      "outputs": []
    },
    {
      "cell_type": "code",
      "source": [
        "sample = [ 10,20,30,40 ,'hello','world',True,False]\n",
        "\n",
        "# list is: loosly typed  means it can allow elements of any type where array won't allow\n",
        "# array allows element of same type only."
      ],
      "metadata": {
        "id": "zj-jYVJdAYDE"
      },
      "execution_count": null,
      "outputs": []
    },
    {
      "cell_type": "code",
      "source": [
        "# Array eg.\n",
        "import array\n",
        "\n",
        "myarray = array.array('i',[10,20,30,40,50])\n",
        "\n",
        "# Array is strongly typed collection: it means that all the elements are supposed to be of\n",
        "# same datatype. (homogenous)"
      ],
      "metadata": {
        "id": "YesdsM7tAg7A"
      },
      "execution_count": null,
      "outputs": []
    },
    {
      "cell_type": "code",
      "source": [
        "# i : means integer\n",
        "# f : means float"
      ],
      "metadata": {
        "id": "f58Q6s2gAlKn"
      },
      "execution_count": null,
      "outputs": []
    },
    {
      "cell_type": "code",
      "source": [
        "myarray[0]= 'hello' # trying to replace 10 with 'hello'"
      ],
      "metadata": {
        "colab": {
          "base_uri": "https://localhost:8080/",
          "height": 141
        },
        "id": "1sYoFs0_Aorr",
        "outputId": "380162b8-a8a2-415c-c654-048a541f9291"
      },
      "execution_count": null,
      "outputs": [
        {
          "output_type": "error",
          "ename": "TypeError",
          "evalue": "'str' object cannot be interpreted as an integer",
          "traceback": [
            "\u001b[0;31m---------------------------------------------------------------------------\u001b[0m",
            "\u001b[0;31mTypeError\u001b[0m                                 Traceback (most recent call last)",
            "\u001b[0;32m/tmp/ipython-input-135-2293117523.py\u001b[0m in \u001b[0;36m<cell line: 0>\u001b[0;34m()\u001b[0m\n\u001b[0;32m----> 1\u001b[0;31m \u001b[0mmyarray\u001b[0m\u001b[0;34m[\u001b[0m\u001b[0;36m0\u001b[0m\u001b[0;34m]\u001b[0m\u001b[0;34m=\u001b[0m \u001b[0;34m'hello'\u001b[0m \u001b[0;31m# trying to replace 10 with 'hello'\u001b[0m\u001b[0;34m\u001b[0m\u001b[0;34m\u001b[0m\u001b[0m\n\u001b[0m",
            "\u001b[0;31mTypeError\u001b[0m: 'str' object cannot be interpreted as an integer"
          ]
        }
      ]
    },
    {
      "cell_type": "code",
      "source": [
        "sample[0] = 'hello'"
      ],
      "metadata": {
        "id": "aOvmQ2-6Asvp"
      },
      "execution_count": null,
      "outputs": []
    },
    {
      "cell_type": "code",
      "source": [
        "print( sample )"
      ],
      "metadata": {
        "colab": {
          "base_uri": "https://localhost:8080/"
        },
        "id": "IP4xIBklAyxW",
        "outputId": "e15c62e4-69b1-46dd-c585-0af2982ee21a"
      },
      "execution_count": null,
      "outputs": [
        {
          "output_type": "stream",
          "name": "stdout",
          "text": [
            "['hello', 20, 30, 40, 'hello', 'world', True, False]\n"
          ]
        }
      ]
    },
    {
      "cell_type": "code",
      "source": [
        "myarray[0]"
      ],
      "metadata": {
        "colab": {
          "base_uri": "https://localhost:8080/"
        },
        "id": "Um7BtGcSAzRH",
        "outputId": "35cdd34f-e8b0-4105-e462-d7e4263a8e31"
      },
      "execution_count": null,
      "outputs": [
        {
          "output_type": "execute_result",
          "data": {
            "text/plain": [
              "10"
            ]
          },
          "metadata": {},
          "execution_count": 138
        }
      ]
    },
    {
      "cell_type": "code",
      "source": [
        "myarray[0]=20"
      ],
      "metadata": {
        "id": "CpezBianBrj8"
      },
      "execution_count": null,
      "outputs": []
    },
    {
      "cell_type": "code",
      "source": [
        "del myarray[0]"
      ],
      "metadata": {
        "id": "52w6_TBIBtM-"
      },
      "execution_count": null,
      "outputs": []
    },
    {
      "cell_type": "code",
      "source": [],
      "metadata": {
        "id": "ou5EJqIABuU-"
      },
      "execution_count": null,
      "outputs": []
    },
    {
      "cell_type": "markdown",
      "source": [
        "# Points:\n",
        "# please consider this as awareness session  . the idea is to reduce the complexity of subject\n",
        "\n",
        "# you are still not functional in concepts, you need to practice atleast 5 to 15 questions on each topic.\n",
        "\n",
        "# practice of overall 15-25 hours is suggested."
      ],
      "metadata": {
        "id": "srItDQdvB3Ts"
      }
    },
    {
      "cell_type": "code",
      "source": [
        "data  = { ('alice',2016) : 8500  , ('alice',2017): 9500 , ('alice',2018) : 4500 }\n",
        "\n",
        "# key: is tuple where ( key is a combination of employee name and working year)\n",
        "# value : is sale made by the employee"
      ],
      "metadata": {
        "id": "l1UJB-WOCHeM"
      },
      "execution_count": null,
      "outputs": []
    },
    {
      "cell_type": "code",
      "source": [
        "sample = ('hello',[10,20,30],'india')"
      ],
      "metadata": {
        "id": "EjWgBnXJCHuq"
      },
      "execution_count": null,
      "outputs": []
    },
    {
      "cell_type": "code",
      "source": [],
      "metadata": {
        "id": "s0gOcDHOCZAO"
      },
      "execution_count": null,
      "outputs": []
    }
  ]
}