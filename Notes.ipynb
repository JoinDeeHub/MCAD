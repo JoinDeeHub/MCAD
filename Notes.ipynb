{
 "cells": [
  {
   "cell_type": "markdown",
   "id": "e66eb0e6",
   "metadata": {},
   "source": [
    "# FLASK Notes"
   ]
  },
  {
   "cell_type": "markdown",
   "id": "200200e5",
   "metadata": {},
   "source": [
    "  App3.py\n",
    " * Serving Flask app 'App3'\n",
    " * Debug mode: on\n",
    "Address already in use\n",
    "Port 5000 is in use by another program. Either identify and stop that program, or start the server with a different port."
   ]
  },
  {
   "cell_type": "markdown",
   "id": "fcc632f3",
   "metadata": {},
   "source": [
    "✅ Solutions\n",
    "🔁 Option 1: Kill the Process on Port 5000\n",
    "\n",
    "🧪 Step 1: Find the process\n",
    "\n",
    ">> lsof -i :5000\n",
    "\n",
    "COMMAND    PID   USER   FD   TYPE DEVICE SIZE/OFF NODE NAME\n",
    "   133049 deehub    3u  IPv4 964217      0t0  TCP localhost:5000 (LISTEN)\n",
    "\n",
    "###(Replace 12345 with the actual process ID)\n",
    "\n",
    "🛑 Step 2: Kill the process\n",
    "\n",
    ">> kill -9 133049\n",
    "\n",
    "Then re-run the .py file of the flask"
   ]
  },
  {
   "cell_type": "markdown",
   "id": "1d8a23a5",
   "metadata": {},
   "source": [
    "Option 2: Run Flask App on a Different Port\n",
    "Change your run command in App3.py like this:\n",
    "\n",
    " \n",
    "### app.run(port=5001, debug=True)\n",
    "\n",
    "Or \n",
    "\n",
    "run it from terminal:\n",
    " \n",
    " ### >> App3.py --port=5001\n",
    "\n",
    "\n",
    "📌 You can use any port like 5001, 8000, or 8080, as long as it's free.\n",
    "\n",
    "❗ Pro Tip\n",
    "To avoid future conflicts, run Flask apps with an explicit port:\n",
    "\n",
    "  \n",
    "### app.run(host='0.0.0.0', port=5050, debug=True)"
   ]
  }
 ],
 "metadata": {
  "language_info": {
   "name": "python"
  }
 },
 "nbformat": 4,
 "nbformat_minor": 5
}
